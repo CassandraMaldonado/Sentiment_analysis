{
 "cells": [
  {
   "cell_type": "code",
   "execution_count": 3,
   "metadata": {},
   "outputs": [],
   "source": [
    "import pandas as pd\n",
    "import numpy as np\n",
    "import matplotlib.pyplot as plt\n",
    "\n",
    "df1 = pd.read_csv(\"/Users/casey/Documents/GitHub/NLP sentiment/sentiment_batches/sentiment_analysis_batch_1.csv\")"
   ]
  },
  {
   "cell_type": "code",
   "execution_count": 4,
   "metadata": {},
   "outputs": [
    {
     "data": {
      "text/html": [
       "<div>\n",
       "<style scoped>\n",
       "    .dataframe tbody tr th:only-of-type {\n",
       "        vertical-align: middle;\n",
       "    }\n",
       "\n",
       "    .dataframe tbody tr th {\n",
       "        vertical-align: top;\n",
       "    }\n",
       "\n",
       "    .dataframe thead th {\n",
       "        text-align: right;\n",
       "    }\n",
       "</style>\n",
       "<table border=\"1\" class=\"dataframe\">\n",
       "  <thead>\n",
       "    <tr style=\"text-align: right;\">\n",
       "      <th></th>\n",
       "      <th>trafilatura_text</th>\n",
       "      <th>trafilatura_title</th>\n",
       "      <th>overall_sentiment</th>\n",
       "      <th>workplace_sentiment</th>\n",
       "      <th>evidence</th>\n",
       "      <th>contextual_notes</th>\n",
       "    </tr>\n",
       "  </thead>\n",
       "  <tbody>\n",
       "    <tr>\n",
       "      <th>0</th>\n",
       "      <td>Infogain AI Business Solutions Now Available i...</td>\n",
       "      <td>Infogain AI Business Solutions Now Available i...</td>\n",
       "      <td>Positive</td>\n",
       "      <td>Neutral</td>\n",
       "      <td>['Infogain AI Business Solutions Now Available...</td>\n",
       "      <td>AI terms and job impact terms appear close tog...</td>\n",
       "    </tr>\n",
       "    <tr>\n",
       "      <th>1</th>\n",
       "      <td>Africa: AI Policies in Africa - Lessons From G...</td>\n",
       "      <td>Africa: AI Policies in Africa</td>\n",
       "      <td>Neutral</td>\n",
       "      <td>Positive</td>\n",
       "      <td>[\"com AllAfrica English (current) En Français ...</td>\n",
       "      <td>AI terms and job impact terms appear close tog...</td>\n",
       "    </tr>\n",
       "    <tr>\n",
       "      <th>2</th>\n",
       "      <td>Yang Lan interviews academics on AI developmen...</td>\n",
       "      <td>Yang Lan interviews academics on AI development</td>\n",
       "      <td>Neutral</td>\n",
       "      <td>Neutral</td>\n",
       "      <td>['Yang Lan interviews academics on AI developm...</td>\n",
       "      <td>AI terms and job impact terms do not co-occur ...</td>\n",
       "    </tr>\n",
       "    <tr>\n",
       "      <th>3</th>\n",
       "      <td>Commerce Nominee Promises Increased Domestic A...</td>\n",
       "      <td>Commerce Nominee Promises Increased Domestic A...</td>\n",
       "      <td>Neutral</td>\n",
       "      <td>Neutral</td>\n",
       "      <td>['Commerce Nominee Promises Increased Domestic...</td>\n",
       "      <td>AI terms and job impact terms appear close tog...</td>\n",
       "    </tr>\n",
       "    <tr>\n",
       "      <th>4</th>\n",
       "      <td>Revolutionizing the Manufacturing Industry: Th...</td>\n",
       "      <td>Revolutionizing the Manufacturing Industry: Th...</td>\n",
       "      <td>Neutral</td>\n",
       "      <td>Neutral</td>\n",
       "      <td>['Unveiling New Technologies and the Power of ...</td>\n",
       "      <td>AI terms and job impact terms do not co-occur ...</td>\n",
       "    </tr>\n",
       "  </tbody>\n",
       "</table>\n",
       "</div>"
      ],
      "text/plain": [
       "                                    trafilatura_text  \\\n",
       "0  Infogain AI Business Solutions Now Available i...   \n",
       "1  Africa: AI Policies in Africa - Lessons From G...   \n",
       "2  Yang Lan interviews academics on AI developmen...   \n",
       "3  Commerce Nominee Promises Increased Domestic A...   \n",
       "4  Revolutionizing the Manufacturing Industry: Th...   \n",
       "\n",
       "                                   trafilatura_title overall_sentiment  \\\n",
       "0  Infogain AI Business Solutions Now Available i...          Positive   \n",
       "1                      Africa: AI Policies in Africa           Neutral   \n",
       "2    Yang Lan interviews academics on AI development           Neutral   \n",
       "3  Commerce Nominee Promises Increased Domestic A...           Neutral   \n",
       "4  Revolutionizing the Manufacturing Industry: Th...           Neutral   \n",
       "\n",
       "  workplace_sentiment                                           evidence  \\\n",
       "0             Neutral  ['Infogain AI Business Solutions Now Available...   \n",
       "1            Positive  [\"com AllAfrica English (current) En Français ...   \n",
       "2             Neutral  ['Yang Lan interviews academics on AI developm...   \n",
       "3             Neutral  ['Commerce Nominee Promises Increased Domestic...   \n",
       "4             Neutral  ['Unveiling New Technologies and the Power of ...   \n",
       "\n",
       "                                    contextual_notes  \n",
       "0  AI terms and job impact terms appear close tog...  \n",
       "1  AI terms and job impact terms appear close tog...  \n",
       "2  AI terms and job impact terms do not co-occur ...  \n",
       "3  AI terms and job impact terms appear close tog...  \n",
       "4  AI terms and job impact terms do not co-occur ...  "
      ]
     },
     "execution_count": 4,
     "metadata": {},
     "output_type": "execute_result"
    }
   ],
   "source": [
    "df1.head()"
   ]
  },
  {
   "cell_type": "code",
   "execution_count": 6,
   "metadata": {},
   "outputs": [
    {
     "data": {
      "text/plain": [
       "0"
      ]
     },
     "execution_count": 6,
     "metadata": {},
     "output_type": "execute_result"
    }
   ],
   "source": [
    "# Check for emtpy for overall sentiment\n",
    "df1['overall_sentiment'].isnull().sum()"
   ]
  },
  {
   "cell_type": "code",
   "execution_count": 7,
   "metadata": {},
   "outputs": [
    {
     "data": {
      "text/plain": [
       "0"
      ]
     },
     "execution_count": 7,
     "metadata": {},
     "output_type": "execute_result"
    }
   ],
   "source": [
    "# Check for empty for workplace sentiment\n",
    "df1['workplace_sentiment'].isnull().sum()"
   ]
  },
  {
   "cell_type": "code",
   "execution_count": 8,
   "metadata": {},
   "outputs": [
    {
     "data": {
      "text/plain": [
       "0"
      ]
     },
     "execution_count": 8,
     "metadata": {},
     "output_type": "execute_result"
    }
   ],
   "source": [
    "# Check for empty for evidence\n",
    "df1['evidence'].isnull().sum()\n",
    "# Evidence "
   ]
  },
  {
   "cell_type": "code",
   "execution_count": 10,
   "metadata": {},
   "outputs": [
    {
     "data": {
      "text/plain": [
       "2780"
      ]
     },
     "execution_count": 10,
     "metadata": {},
     "output_type": "execute_result"
    }
   ],
   "source": [
    "# Check for [] in evidence\n",
    "df1['evidence'].apply(lambda x: x == '[]').sum()"
   ]
  },
  {
   "cell_type": "code",
   "execution_count": 9,
   "metadata": {},
   "outputs": [
    {
     "data": {
      "text/plain": [
       "0"
      ]
     },
     "execution_count": 9,
     "metadata": {},
     "output_type": "execute_result"
    }
   ],
   "source": [
    "# Check for empty for contextual_notes\n",
    "df1['contextual_notes'].isnull().sum()"
   ]
  }
 ],
 "metadata": {
  "kernelspec": {
   "display_name": "base",
   "language": "python",
   "name": "python3"
  },
  "language_info": {
   "codemirror_mode": {
    "name": "ipython",
    "version": 3
   },
   "file_extension": ".py",
   "mimetype": "text/x-python",
   "name": "python",
   "nbconvert_exporter": "python",
   "pygments_lexer": "ipython3",
   "version": "3.12.2"
  }
 },
 "nbformat": 4,
 "nbformat_minor": 2
}
