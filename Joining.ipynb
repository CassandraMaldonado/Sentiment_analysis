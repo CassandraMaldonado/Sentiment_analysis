{
 "cells": [
  {
   "cell_type": "code",
   "execution_count": 1,
   "metadata": {},
   "outputs": [],
   "source": [
    "import pandas as pd\n",
    "import os\n",
    "import glob"
   ]
  },
  {
   "cell_type": "code",
   "execution_count": 2,
   "metadata": {},
   "outputs": [],
   "source": [
    "# Path to your folder containing the CSVs\n",
    "folder_path = \"sentiment_batches\"\n",
    "\n",
    "# Get all CSV files in the folder that match the batch pattern\n",
    "csv_files = glob.glob(os.path.join(folder_path, \"sentiment_analysis_batch_*.csv\"))"
   ]
  },
  {
   "cell_type": "code",
   "execution_count": 7,
   "metadata": {},
   "outputs": [
    {
     "name": "stdout",
     "output_type": "stream",
     "text": [
      "Merged 10 files into 'combined_sentiment_analysis.csv'\n"
     ]
    }
   ],
   "source": [
    "# Combine all files into one DataFrame\n",
    "combined_df = pd.DataFrame()\n",
    "for file in csv_files:\n",
    "    df = pd.read_csv(file, on_bad_lines='skip', engine='python')\n",
    "    combined_df = pd.concat([combined_df, df], ignore_index=True)\n",
    "\n",
    "# Save to a new CSV file\n",
    "combined_df.to_csv(\"combined_sentiment_analysis.csv\", index=False)\n",
    "\n",
    "print(f\"Merged {len(csv_files)} files into 'combined_sentiment_analysis.csv'\")"
   ]
  },
  {
   "cell_type": "code",
   "execution_count": 8,
   "metadata": {},
   "outputs": [
    {
     "name": "stdout",
     "output_type": "stream",
     "text": [
      "                                    trafilatura_text  \\\n",
      "0  ETS Receives Nearly 3.25 Million for AI Resear...   \n",
      "1  Skype can now translate your own voice into di...   \n",
      "2  'State of AI in the Enterprise' Fifth Edition ...   \n",
      "3  Europe, US urged to investigate the type of AI...   \n",
      "4  Lawyers blame ChatGPT for tricking them into c...   \n",
      "\n",
      "                                   trafilatura_title overall_sentiment  \\\n",
      "0  ETS Receives Nearly $3.25 Million for AI Resea...          Positive   \n",
      "1  Skype can now translate your own voice into di...          Positive   \n",
      "2  'State of AI in the Enterprise' Fifth Edition ...          Positive   \n",
      "3  Europe, US urged to investigate the type of AI...           Neutral   \n",
      "4  Lawyers blame ChatGPT for tricking them into c...           Neutral   \n",
      "\n",
      "  workplace_sentiment                                           evidence  \\\n",
      "0             Neutral  ['\"The INVITE Institute alliance includes more...   \n",
      "1             Neutral  [\"Now, with the power of artificial intelligen...   \n",
      "2             Neutral  ['The highest performing respondents (\"Transfo...   \n",
      "3             Neutral  ['Authorities worldwide are racing to rein in ...   \n",
      "4             Neutral  ['Its success, demonstrating how artificial in...   \n",
      "\n",
      "                                    contextual_notes  \n",
      "0  AI terms and job impact terms do not co-occur ...  \n",
      "1  AI terms and job impact terms do not co-occur ...  \n",
      "2  AI terms and job impact terms do not co-occur ...  \n",
      "3  AI terms and job impact terms do not co-occur ...  \n",
      "4  AI terms and job impact terms do not co-occur ...  \n"
     ]
    }
   ],
   "source": [
    "# Show the first few rows of the combined DataFrame\n",
    "print(combined_df.head())"
   ]
  },
  {
   "cell_type": "code",
   "execution_count": 10,
   "metadata": {},
   "outputs": [
    {
     "name": "stdout",
     "output_type": "stream",
     "text": [
      "Total number of rows in the combined DataFrame: 184,388\n"
     ]
    }
   ],
   "source": [
    "# Number of rows in the combined DataFrame\n",
    "print(f\"Total number of rows in the combined DataFrame: {len(combined_df):,}\")"
   ]
  },
  {
   "cell_type": "code",
   "execution_count": 11,
   "metadata": {},
   "outputs": [
    {
     "name": "stdout",
     "output_type": "stream",
     "text": [
      "Column names in the combined DataFrame:\n",
      "['trafilatura_text', 'trafilatura_title', 'overall_sentiment', 'workplace_sentiment', 'evidence', 'contextual_notes']\n"
     ]
    }
   ],
   "source": [
    "#Print column names\n",
    "print(\"Column names in the combined DataFrame:\")\n",
    "print(combined_df.columns.tolist())"
   ]
  }
 ],
 "metadata": {
  "kernelspec": {
   "display_name": "base",
   "language": "python",
   "name": "python3"
  },
  "language_info": {
   "codemirror_mode": {
    "name": "ipython",
    "version": 3
   },
   "file_extension": ".py",
   "mimetype": "text/x-python",
   "name": "python",
   "nbconvert_exporter": "python",
   "pygments_lexer": "ipython3",
   "version": "3.12.2"
  }
 },
 "nbformat": 4,
 "nbformat_minor": 2
}
